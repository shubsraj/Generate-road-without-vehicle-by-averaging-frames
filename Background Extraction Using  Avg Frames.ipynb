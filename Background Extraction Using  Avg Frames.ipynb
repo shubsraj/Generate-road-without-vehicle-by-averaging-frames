{
 "cells": [
  {
   "cell_type": "code",
   "execution_count": 5,
   "metadata": {},
   "outputs": [],
   "source": [
    "import cv2\n",
    "import numpy as np\n",
    "\n",
    "#capturing video\n",
    "capture = cv2.VideoCapture(\"Media/cut.mp4\")\n",
    "#Reading video frame by frame\n",
    "ret,frame = capture.read()\n",
    "\n",
    "#Resizing Frame\n",
    "frame = cv2.resize(frame, (1280, 720))\n",
    "#Converting aray of frame into 32bit float and saving as avg\n",
    "avg = np.float32(frame)\n",
    "\n",
    "#to write output frames making out object where format is .mp4 anf encoding is XVID\n",
    "fourcc = cv2.VideoWriter_fourcc(*'XVID')\n",
    "out = cv2.VideoWriter('Media/output.avi', fourcc, 25, (1280, 720), 1)\n",
    "\n",
    "while(1):\n",
    "    ret,frame = capture.read()\n",
    "    \n",
    "    if not ret:\n",
    "        break\n",
    "    frame = cv2.resize(frame, (1280, 720))\n",
    "    #here cv2.accumulateWeighted will take avg our avg and origonal frame and convert it in 8 or 32 bit acc to frame rate\n",
    "    cv2.accumulateWeighted(frame,avg,0.01)\n",
    "    res = cv2.convertScaleAbs(avg)\n",
    "    #Writing the frames into a video file\n",
    "    out.write(res)\n",
    "    cv2.imshow('avg2',res)\n",
    "    \n",
    "    if cv2.waitKey(20) == 13: #here 13 is Enter key\n",
    "        break\n",
    "\n",
    "#after opration done cloasing all the open windows and realising the capture of video\n",
    "cv2.destroyAllWindows()\n",
    "out.release()\n",
    "capture.release()"
   ]
  }
 ],
 "metadata": {
  "kernelspec": {
   "display_name": "Python 3",
   "language": "python",
   "name": "python3"
  },
  "language_info": {
   "codemirror_mode": {
    "name": "ipython",
    "version": 3
   },
   "file_extension": ".py",
   "mimetype": "text/x-python",
   "name": "python",
   "nbconvert_exporter": "python",
   "pygments_lexer": "ipython3",
   "version": "3.7.6"
  }
 },
 "nbformat": 4,
 "nbformat_minor": 4
}
