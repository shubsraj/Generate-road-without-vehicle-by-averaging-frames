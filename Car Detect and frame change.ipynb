{
 "cells": [
  {
   "cell_type": "code",
   "execution_count": 11,
   "metadata": {},
   "outputs": [],
   "source": [
    "import cv2 \n",
    "\n",
    "cap = cv2.VideoCapture('Media/cut.mp4')\n",
    "ref = cv2.imread('Media/.png')\n",
    "#print(ref.shape)\n",
    "car_cascade = cv2.CascadeClassifier('cars.xml') \n",
    "\n",
    "fourcc = cv2.VideoWriter_fourcc(*'XVID')\n",
    "out = cv2.VideoWriter('test.avi', fourcc, 25, (1280, 720), 1)\n",
    " \n",
    "\n",
    "while True: \n",
    "   \n",
    "    ret, frame = cap.read()\n",
    "    #print(frame.shape)\n",
    "    \n",
    "    if not ret:\n",
    "        break\n",
    "        \n",
    "    frame = cv2.resize(frame, (1280, 720))\n",
    "    gray = cv2.cvtColor(frame, cv2.COLOR_BGR2GRAY) \n",
    "    cars = car_cascade.detectMultiScale(gray, 1.1, 1) \n",
    "      \n",
    "    for (x,y,w,h) in cars: \n",
    "        #cv2.rectangle(frame,(x,y),(x+w,y+h),(0,0,255),2) \n",
    "        \n",
    "        crop_img = ref[y:y + h, x:x + w]\n",
    "        frame[y:y + h, x:x + w] = crop_img\n",
    "        \n",
    "    out.write(frame)\n",
    "    cv2.imshow('video', frame)\n",
    "    \n",
    "    if cv2.waitKey(1) == 13: \n",
    "        break\n",
    "        \n",
    "cap.release()\n",
    "out.release()\n",
    "cv2.destroyAllWindows()"
   ]
  }
 ],
 "metadata": {
  "kernelspec": {
   "display_name": "Python 3",
   "language": "python",
   "name": "python3"
  },
  "language_info": {
   "codemirror_mode": {
    "name": "ipython",
    "version": 3
   },
   "file_extension": ".py",
   "mimetype": "text/x-python",
   "name": "python",
   "nbconvert_exporter": "python",
   "pygments_lexer": "ipython3",
   "version": "3.7.6"
  }
 },
 "nbformat": 4,
 "nbformat_minor": 4
}
